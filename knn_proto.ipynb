{
  "nbformat": 4,
  "nbformat_minor": 0,
  "metadata": {
    "colab": {
      "provenance": [],
      "collapsed_sections": []
    },
    "kernelspec": {
      "name": "python3",
      "display_name": "Python 3"
    },
    "language_info": {
      "name": "python"
    }
  },
  "cells": [
    {
      "cell_type": "code",
      "execution_count": null,
      "metadata": {
        "id": "k-GzebRRuidf"
      },
      "outputs": [],
      "source": []
    },
    {
      "cell_type": "markdown",
      "metadata": {
        "id": "1J5DfgKzsgFp"
      },
      "source": [
        "# Using and setting up easyfsl"
      ]
    },
    {
      "cell_type": "code",
      "execution_count": null,
      "metadata": {
        "colab": {
          "base_uri": "https://localhost:8080/"
        },
        "id": "vDKSLtqhsjTF",
        "outputId": "96850640-8de9-4cde-ddbe-24ee9de2f777"
      },
      "outputs": [
        {
          "output_type": "stream",
          "name": "stdout",
          "text": [
            "Looking in indexes: https://pypi.org/simple, https://us-python.pkg.dev/colab-wheels/public/simple/\n",
            "Requirement already satisfied: easyfsl in /usr/local/lib/python3.7/dist-packages (1.1.0)\n",
            "Requirement already satisfied: tqdm>=4.1.0 in /usr/local/lib/python3.7/dist-packages (from easyfsl) (4.64.1)\n",
            "Requirement already satisfied: matplotlib>=3.0.0 in /usr/local/lib/python3.7/dist-packages (from easyfsl) (3.2.2)\n",
            "Requirement already satisfied: pandas>=1.1.0 in /usr/local/lib/python3.7/dist-packages (from easyfsl) (1.3.5)\n",
            "Requirement already satisfied: torchvision>=0.7.0 in /usr/local/lib/python3.7/dist-packages (from easyfsl) (0.13.1+cu113)\n",
            "Requirement already satisfied: torch>=1.4.0 in /usr/local/lib/python3.7/dist-packages (from easyfsl) (1.12.1+cu113)\n",
            "Requirement already satisfied: pyparsing!=2.0.4,!=2.1.2,!=2.1.6,>=2.0.1 in /usr/local/lib/python3.7/dist-packages (from matplotlib>=3.0.0->easyfsl) (3.0.9)\n",
            "Requirement already satisfied: numpy>=1.11 in /usr/local/lib/python3.7/dist-packages (from matplotlib>=3.0.0->easyfsl) (1.21.6)\n",
            "Requirement already satisfied: python-dateutil>=2.1 in /usr/local/lib/python3.7/dist-packages (from matplotlib>=3.0.0->easyfsl) (2.8.2)\n",
            "Requirement already satisfied: kiwisolver>=1.0.1 in /usr/local/lib/python3.7/dist-packages (from matplotlib>=3.0.0->easyfsl) (1.4.4)\n",
            "Requirement already satisfied: cycler>=0.10 in /usr/local/lib/python3.7/dist-packages (from matplotlib>=3.0.0->easyfsl) (0.11.0)\n",
            "Requirement already satisfied: typing-extensions in /usr/local/lib/python3.7/dist-packages (from kiwisolver>=1.0.1->matplotlib>=3.0.0->easyfsl) (4.1.1)\n",
            "Requirement already satisfied: pytz>=2017.3 in /usr/local/lib/python3.7/dist-packages (from pandas>=1.1.0->easyfsl) (2022.5)\n",
            "Requirement already satisfied: six>=1.5 in /usr/local/lib/python3.7/dist-packages (from python-dateutil>=2.1->matplotlib>=3.0.0->easyfsl) (1.15.0)\n",
            "Requirement already satisfied: requests in /usr/local/lib/python3.7/dist-packages (from torchvision>=0.7.0->easyfsl) (2.23.0)\n",
            "Requirement already satisfied: pillow!=8.3.*,>=5.3.0 in /usr/local/lib/python3.7/dist-packages (from torchvision>=0.7.0->easyfsl) (7.1.2)\n",
            "Requirement already satisfied: chardet<4,>=3.0.2 in /usr/local/lib/python3.7/dist-packages (from requests->torchvision>=0.7.0->easyfsl) (3.0.4)\n",
            "Requirement already satisfied: certifi>=2017.4.17 in /usr/local/lib/python3.7/dist-packages (from requests->torchvision>=0.7.0->easyfsl) (2022.9.24)\n",
            "Requirement already satisfied: idna<3,>=2.5 in /usr/local/lib/python3.7/dist-packages (from requests->torchvision>=0.7.0->easyfsl) (2.10)\n",
            "Requirement already satisfied: urllib3!=1.25.0,!=1.25.1,<1.26,>=1.21.1 in /usr/local/lib/python3.7/dist-packages (from requests->torchvision>=0.7.0->easyfsl) (1.24.3)\n"
          ]
        }
      ],
      "source": [
        "!pip install easyfsl"
      ]
    },
    {
      "cell_type": "code",
      "execution_count": null,
      "metadata": {
        "id": "FlVOeCpespUU"
      },
      "outputs": [],
      "source": [
        "from pathlib import Path\n",
        "import random\n",
        "from statistics import mean\n",
        "\n",
        "import numpy as np\n",
        "import torch\n",
        "from torch import nn\n",
        "from tqdm import tqdm"
      ]
    },
    {
      "cell_type": "markdown",
      "metadata": {
        "id": "jfbnWRrTsyQ-"
      },
      "source": [
        "## Setting seed"
      ]
    },
    {
      "cell_type": "code",
      "execution_count": null,
      "metadata": {
        "id": "7Wp_vxMmsuRR"
      },
      "outputs": [],
      "source": [
        "random_seed = 0\n",
        "np.random.seed(random_seed)\n",
        "torch.manual_seed(random_seed)\n",
        "random.seed(random_seed)\n",
        "torch.backends.cudnn.deterministic = True\n",
        "torch.backends.cudnn.benchmark = False"
      ]
    },
    {
      "cell_type": "markdown",
      "metadata": {
        "id": "O8lOkkApv2A_"
      },
      "source": [
        "# Loading Dataset"
      ]
    },
    {
      "cell_type": "code",
      "execution_count": null,
      "metadata": {
        "id": "2MfSRrOqs1V8"
      },
      "outputs": [],
      "source": [
        "from torch.utils.data import DataLoader\n",
        "from torchvision.datasets import Flowers102\n",
        "from torchvision import transforms\n",
        "\n",
        "batch_size = 16\n",
        "n_workers = 2\n",
        "image_size = 128\n",
        "train_set = Flowers102(\n",
        "    root=\"./data\",\n",
        "    split = 'train',\n",
        "    transform=transforms.Compose(\n",
        "        [\n",
        "            transforms.Resize((image_size,image_size)),\n",
        "            transforms.RandomHorizontalFlip(),\n",
        "            transforms.ToTensor(),\n",
        "            transforms.Normalize(mean=[0.507, 0.487, 0.441], std=[0.267, 0.256, 0.276])\n",
        "        ]\n",
        "    ),\n",
        "    download=True,\n",
        ")"
      ]
    },
    {
      "cell_type": "code",
      "source": [
        "n_tasks_per_epoch = 100\n",
        "train_sampler = TaskSampler(\n",
        "    train_set, n_way=n_way, n_shot=n_shot, n_query=n_query, n_tasks=n_tasks_per_epoch\n",
        ")\n",
        "\n",
        "train_loader = DataLoader(\n",
        "    train_set,\n",
        "    batch_sampler=train_sampler,\n",
        "    num_workers=2,\n",
        "    pin_memory=True,\n",
        "    collate_fn=train_sampler.episodic_collate_fn,\n",
        ")"
      ],
      "metadata": {
        "id": "x4_kYfsiu8uq"
      },
      "execution_count": null,
      "outputs": []
    },
    {
      "cell_type": "code",
      "execution_count": null,
      "metadata": {
        "colab": {
          "base_uri": "https://localhost:8080/"
        },
        "id": "xXg9QuiOvpS2",
        "outputId": "f62e604e-9ba9-4bf4-d2fa-80eb20eb6bba"
      },
      "outputs": [
        {
          "output_type": "stream",
          "name": "stdout",
          "text": [
            "Length of train dataset: 1020\n"
          ]
        }
      ],
      "source": [
        "print(f'Length of train dataset: {len(train_set)}')"
      ]
    },
    {
      "cell_type": "code",
      "execution_count": null,
      "metadata": {
        "id": "P_Mz81gOv9ci"
      },
      "outputs": [],
      "source": []
    },
    {
      "cell_type": "markdown",
      "metadata": {
        "id": "4M_hFvqQwRWf"
      },
      "source": [
        "# Classical training"
      ]
    },
    {
      "cell_type": "markdown",
      "metadata": {
        "id": "6EvJ5k-gxccR"
      },
      "source": [
        "## Transfer learning with resnet12"
      ]
    },
    {
      "cell_type": "code",
      "execution_count": null,
      "metadata": {
        "id": "p7CI6DUZwiSE"
      },
      "outputs": [],
      "source": [
        "train_set.get_labels = lambda: [\n",
        "    instance[1] for instance in train_set\n",
        "]"
      ]
    },
    {
      "cell_type": "code",
      "execution_count": null,
      "metadata": {
        "colab": {
          "base_uri": "https://localhost:8080/"
        },
        "id": "0jQvpIylwn0y",
        "outputId": "3b0e1afd-9c3b-4fbf-b3e3-78c13bfcb1b3"
      },
      "outputs": [
        {
          "output_type": "stream",
          "name": "stdout",
          "text": [
            "Num of flower classes: 102\n"
          ]
        }
      ],
      "source": [
        "print(f\"Num of flower classes: {len(set(train_set.get_labels()))}\")"
      ]
    },
    {
      "cell_type": "code",
      "execution_count": null,
      "metadata": {
        "id": "5MGwFKIhwTns"
      },
      "outputs": [],
      "source": [
        "from easyfsl.modules import resnet18\n",
        "\n",
        "DEVICE = \"cuda\"\n",
        "\n",
        "model = resnet18(\n",
        "    use_fc=True,\n",
        "    num_classes=102,\n",
        ").to(DEVICE)"
      ]
    },
    {
      "cell_type": "markdown",
      "metadata": {
        "id": "lOlNmUHAxXb6"
      },
      "source": [
        "## Task sampling"
      ]
    },
    {
      "cell_type": "code",
      "execution_count": null,
      "metadata": {
        "id": "PjKuIuf7wVIv"
      },
      "outputs": [],
      "source": [
        "from easyfsl.methods import PrototypicalNetworks\n",
        "from easyfsl.samplers import TaskSampler\n",
        "n_way = 5\n",
        "n_shot = 4\n",
        "n_query = 6\n",
        "n_validation_tasks = 100\n",
        "\n",
        "val_set = Flowers102(\n",
        "    root=\"./data\",\n",
        "    split = 'val',\n",
        "    transform=transforms.Compose(\n",
        "        [\n",
        "            transforms.Resize((image_size,image_size)),\n",
        "            transforms.RandomHorizontalFlip(),\n",
        "            transforms.ToTensor(),\n",
        "            transforms.Normalize(mean=[0.507, 0.487, 0.441], std=[0.267, 0.256, 0.276])\n",
        "        ]\n",
        "    ),\n",
        "    download=True,\n",
        ")"
      ]
    },
    {
      "cell_type": "code",
      "source": [
        "\n",
        "val_set.get_labels = lambda: [\n",
        "    instance[1] for instance in val_set\n",
        "]\n",
        "val_sampler = TaskSampler(\n",
        "    val_set, n_way=n_way, n_shot=n_shot, n_query=n_query, n_tasks=n_validation_tasks\n",
        ")\n",
        "\n",
        "val_loader = DataLoader(\n",
        "    val_set,\n",
        "    batch_sampler=val_sampler,\n",
        "    num_workers=2,\n",
        "    pin_memory=True,\n",
        "    collate_fn=val_sampler.episodic_collate_fn,\n",
        ")"
      ],
      "metadata": {
        "id": "REgNDE--ATXG"
      },
      "execution_count": null,
      "outputs": []
    },
    {
      "cell_type": "code",
      "execution_count": null,
      "metadata": {
        "colab": {
          "base_uri": "https://localhost:8080/",
          "height": 298
        },
        "id": "cIVmfUoNGH-H",
        "outputId": "5952d862-90f5-4668-948f-b5f3804e1a03"
      },
      "outputs": [
        {
          "output_type": "stream",
          "name": "stderr",
          "text": [
            "WARNING:matplotlib.image:Clipping input data to the valid range for imshow with RGB data ([0..1] for floats or [0..255] for integers).\n"
          ]
        },
        {
          "output_type": "display_data",
          "data": {
            "text/plain": [
              "<Figure size 432x288 with 1 Axes>"
            ],
            "image/png": "[encoded data removed]"
          },
          "metadata": {
            "needs_background": "light"
          }
        }
      ],
      "source": [
        "from easyfsl.utils import plot_images\n",
        "plot_images(val_set[0][0], \"first image of val\", 1)"
      ]
    },
    {
      "cell_type": "markdown",
      "metadata": {
        "id": "qcAGCYMpUSlN"
      },
      "source": [
        "# Episodic Training"
      ]
    },
    {
      "cell_type": "code",
      "source": [
        "from easyfsl.modules import resnet18\n",
        "from easyfsl.methods import FewShotClassifier\n",
        "k = 10"
      ],
      "metadata": {
        "id": "V3IZFNQIiZ5D"
      },
      "execution_count": null,
      "outputs": []
    },
    {
      "cell_type": "code",
      "source": [
        "import torch\n",
        "from torch import Tensor\n",
        "from easyfsl.utils import compute_prototypes\n",
        "\n",
        "\n",
        "class PrototypicalNetworks(nn.Module):\n",
        "    def __init__(self, backbone: nn.Module):\n",
        "        super(PrototypicalNetworks, self).__init__()\n",
        "        self.backbone = backbone\n",
        "\n",
        "    def forward(\n",
        "        self,\n",
        "        support_images: torch.Tensor,\n",
        "        support_labels: torch.Tensor,\n",
        "        query_images: torch.Tensor,\n",
        "    ) -> torch.Tensor:\n",
        "        \"\"\"\n",
        "        Predict query labels using labeled support images.\n",
        "        \"\"\"\n",
        "        # Extract the features of support and query images\n",
        "        z_support = self.backbone.forward(support_images)\n",
        "        z_query = self.backbone.forward(query_images)\n",
        "\n",
        "        # Infer the number of different classes from the labels of the support set\n",
        "        n_way = len(torch.unique(support_labels))\n",
        "        # Prototype i is the mean of all instances of features corresponding to labels == i\n",
        "        z_proto = torch.cat(\n",
        "            [\n",
        "                z_support[torch.nonzero(support_labels == label)].mean(0)\n",
        "                for label in range(n_way)\n",
        "            ]\n",
        "        )\n",
        "       \n",
        "        # Performing\n",
        "        dists = torch.cdist(z_query, z_support)\n",
        "        \n",
        "        dists,indices = torch.sort(dists, dim = 1)\n",
        "        \n",
        "        dists = dists[:,:k]\n",
        "        indices = indices [:,:k]\n",
        "        mode_map = []\n",
        "        \n",
        "        for row in indices:\n",
        "          mode_map.append([0 for i in range(n_way)])\n",
        "          for j in row:\n",
        "            mode_map[-1][support_labels[j]]+=1\n",
        "        mode_map = torch.tensor(mode_map)\n",
        "        \n",
        "        x = (mode_map.float()).to(DEVICE)\n",
        "\n",
        "        dists = torch.cdist(z_query, z_proto).to(DEVICE)\n",
        "        delta = 1\n",
        "        # And here is the super complicated operation to transform those distances into classification scores!\n",
        "        scores = -(dists/(x+delta))\n",
        "    \n",
        "        return scores\n"
      ],
      "metadata": {
        "id": "eJW8859PxNpC"
      },
      "execution_count": null,
      "outputs": []
    },
    {
      "cell_type": "code",
      "source": [
        "DEVICE = \"cuda\"\n",
        "convolutional_network = resnet18()\n",
        "few_shot_classifier = PrototypicalNetworks(convolutional_network).to(DEVICE)"
      ],
      "metadata": {
        "id": "xNR3n58DjorB"
      },
      "execution_count": null,
      "outputs": []
    },
    {
      "cell_type": "code",
      "source": [],
      "metadata": {
        "id": "ks-Cww466ytu"
      },
      "execution_count": null,
      "outputs": []
    },
    {
      "cell_type": "markdown",
      "source": [
        "### Episodic Training"
      ],
      "metadata": {
        "id": "ACG5ND92WcRs"
      }
    },
    {
      "cell_type": "code",
      "source": [
        "from torch.optim import SGD, Optimizer\n",
        "from torch.optim.lr_scheduler import MultiStepLR\n",
        "from torch.utils.tensorboard import SummaryWriter\n",
        "\n",
        "\n",
        "LOSS_FUNCTION = nn.CrossEntropyLoss()\n",
        "\n",
        "n_epochs = 30\n",
        "scheduler_milestones = [120, 160]\n",
        "scheduler_gamma = 0.1\n",
        "learning_rate = 1e-2\n",
        "tb_logs_dir = Path(\".\")\n",
        "\n",
        "train_optimizer = SGD(\n",
        "    few_shot_classifier.parameters(), lr=learning_rate, momentum=0.9, weight_decay=5e-4\n",
        ")\n",
        "train_scheduler = MultiStepLR(\n",
        "    train_optimizer,\n",
        "    milestones=scheduler_milestones,\n",
        "    gamma=scheduler_gamma,\n",
        ")\n",
        "\n",
        "tb_writer = SummaryWriter(log_dir=str(tb_logs_dir))"
      ],
      "metadata": {
        "id": "z9tlfre2YncV"
      },
      "execution_count": null,
      "outputs": []
    },
    {
      "cell_type": "code",
      "source": [
        "def evaluate_on_one_task(\n",
        "    support_images: torch.Tensor,\n",
        "    support_labels: torch.Tensor,\n",
        "    query_images: torch.Tensor,\n",
        "    query_labels: torch.Tensor,\n",
        "    model\n",
        ") :\n",
        "    \"\"\"\n",
        "    Returns the number of correct predictions of query labels, and the total number of predictions.\n",
        "    \"\"\"\n",
        "    return (\n",
        "        torch.max(\n",
        "            model(support_images.to(DEVICE), support_labels.to(DEVICE), query_images.to(DEVICE))\n",
        "            .detach()\n",
        "            .data,\n",
        "            1,\n",
        "        )[1]\n",
        "        == query_labels.to(DEVICE)\n",
        "    ).sum().item(), len(query_labels)\n",
        "\n",
        "\n",
        "def evaluate(data_loader: DataLoader, model):\n",
        "    # We'll count everything and compute the ratio at the end\n",
        "    total_predictions = 0\n",
        "    correct_predictions = 0\n",
        "\n",
        "    # eval mode affects the behaviour of some layers (such as batch normalization or dropout)\n",
        "    # no_grad() tells torch not to keep in memory the whole computational graph (it's more lightweight this way)\n",
        "    model.eval()\n",
        "    with torch.no_grad():\n",
        "        for episode_index, (\n",
        "            support_images,\n",
        "            support_labels,\n",
        "            query_images,\n",
        "            query_labels,\n",
        "            class_ids,\n",
        "        ) in tqdm(enumerate(data_loader), total=len(data_loader)):\n",
        "\n",
        "            correct, total = evaluate_on_one_task(\n",
        "                support_images, support_labels, query_images, query_labels,model\n",
        "            )\n",
        "\n",
        "            total_predictions += total\n",
        "            correct_predictions += correct\n",
        "\n",
        "    print(\n",
        "        f\"Model tested on {len(data_loader)} tasks. Accuracy: {(100 * correct_predictions/total_predictions):.2f}%\"\n",
        "    )\n",
        "    return (100 * correct_predictions/total_predictions)\n",
        "\n"
      ],
      "metadata": {
        "id": "rGZ8cN7SYswD"
      },
      "execution_count": null,
      "outputs": []
    },
    {
      "cell_type": "code",
      "source": [
        "def training_epoch(\n",
        "    model: FewShotClassifier, data_loader: DataLoader, optimizer: Optimizer\n",
        "):\n",
        "    all_loss = []\n",
        "    model.train()\n",
        "    with tqdm(\n",
        "        enumerate(data_loader), total=len(data_loader), desc=\"Training\"\n",
        "    ) as tqdm_train:\n",
        "        for episode_index, (\n",
        "            support_images,\n",
        "            support_labels,\n",
        "            query_images,\n",
        "            query_labels,\n",
        "            _,\n",
        "        ) in tqdm_train:\n",
        "            optimizer.zero_grad()\n",
        "            \n",
        "            classification_scores = model(\n",
        "        support_images.to(DEVICE), support_labels.to(DEVICE), query_images.to(DEVICE)\n",
        "    )\n",
        "\n",
        "            loss = LOSS_FUNCTION(classification_scores, query_labels.to(DEVICE))\n",
        "            loss.backward()\n",
        "            optimizer.step()\n",
        "\n",
        "            all_loss.append(loss.item())\n",
        "\n",
        "            tqdm_train.set_postfix(loss=mean(all_loss))\n",
        "\n",
        "    return mean(all_loss)"
      ],
      "metadata": {
        "id": "YLnaqNuaY7zs"
      },
      "execution_count": null,
      "outputs": []
    },
    {
      "cell_type": "code",
      "source": [
        "evaluate(val_loader, few_shot_classifier)"
      ],
      "metadata": {
        "colab": {
          "base_uri": "https://localhost:8080/"
        },
        "id": "FUxy8dUO65CU",
        "outputId": "356b7da9-fbe5-42f3-e0f7-cd0d375dc4da"
      },
      "execution_count": null,
      "outputs": [
        {
          "output_type": "stream",
          "name": "stderr",
          "text": [
            "100%|██████████| 100/100 [00:35<00:00,  2.80it/s]"
          ]
        },
        {
          "output_type": "stream",
          "name": "stdout",
          "text": [
            "Model tested on 100 tasks. Accuracy: 39.60%\n"
          ]
        },
        {
          "output_type": "stream",
          "name": "stderr",
          "text": [
            "\n"
          ]
        },
        {
          "output_type": "execute_result",
          "data": {
            "text/plain": [
              "39.6"
            ]
          },
          "metadata": {},
          "execution_count": 41
        }
      ]
    },
    {
      "cell_type": "code",
      "source": [
        "\n",
        "\n",
        "\n",
        "best_state = few_shot_classifier.state_dict()\n",
        "best_validation_accuracy = 0.0\n",
        "for epoch in range(n_epochs):\n",
        "    print(f\"Epoch {epoch}\")\n",
        "   \n",
        "    average_loss = training_epoch(few_shot_classifier, train_loader, train_optimizer)\n",
        "    train_accuracy = evaluate(train_loader,few_shot_classifier)\n",
        "    validation_accuracy = evaluate(val_loader,few_shot_classifier)\n",
        "    \n",
        "\n",
        "    if validation_accuracy > best_validation_accuracy:\n",
        "        best_validation_accuracy = validation_accuracy\n",
        "        best_state = few_shot_classifier.state_dict()\n",
        "        print(\"We found a new best model!\")\n",
        "\n",
        "    tb_writer.add_scalar(\"Train/loss\", average_loss, epoch)\n",
        "    tb_writer.add_scalar(\"Train/acc\", train_accuracy, epoch)\n",
        "    tb_writer.add_scalar(\"Val/acc\", validation_accuracy, epoch)\n",
        "    \n",
        "    # Warn the scheduler that we did an epoch\n",
        "    # so it knows when to decrease the learning rate\n",
        "    train_scheduler.step()"
      ],
      "metadata": {
        "colab": {
          "base_uri": "https://localhost:8080/"
        },
        "id": "l0JKraeEZOft",
        "outputId": "12a414e3-f5af-49e6-adbf-194bb410df61"
      },
      "execution_count": null,
      "outputs": [
        {
          "output_type": "stream",
          "name": "stdout",
          "text": [
            "Epoch 0\n"
          ]
        },
        {
          "output_type": "stream",
          "name": "stderr",
          "text": [
            "Training: 100%|██████████| 100/100 [01:27<00:00,  1.15it/s, loss=1.23]\n",
            "100%|██████████| 100/100 [00:36<00:00,  2.77it/s]"
          ]
        },
        {
          "output_type": "stream",
          "name": "stdout",
          "text": [
            "Model tested on 100 tasks. Accuracy: 56.33%\n"
          ]
        },
        {
          "output_type": "stream",
          "name": "stderr",
          "text": [
            "\n",
            "100%|██████████| 100/100 [00:35<00:00,  2.79it/s]"
          ]
        },
        {
          "output_type": "stream",
          "name": "stdout",
          "text": [
            "Model tested on 100 tasks. Accuracy: 58.23%\n",
            "We found a new best model!\n",
            "Epoch 1\n"
          ]
        },
        {
          "output_type": "stream",
          "name": "stderr",
          "text": [
            "\n",
            "Training: 100%|██████████| 100/100 [01:26<00:00,  1.15it/s, loss=1.14]\n",
            "100%|██████████| 100/100 [00:36<00:00,  2.76it/s]"
          ]
        },
        {
          "output_type": "stream",
          "name": "stdout",
          "text": [
            "Model tested on 100 tasks. Accuracy: 60.40%\n"
          ]
        },
        {
          "output_type": "stream",
          "name": "stderr",
          "text": [
            "\n",
            "100%|██████████| 100/100 [00:35<00:00,  2.80it/s]"
          ]
        },
        {
          "output_type": "stream",
          "name": "stdout",
          "text": [
            "Model tested on 100 tasks. Accuracy: 61.53%\n",
            "We found a new best model!\n",
            "Epoch 2\n"
          ]
        },
        {
          "output_type": "stream",
          "name": "stderr",
          "text": [
            "\n",
            "Training: 100%|██████████| 100/100 [01:26<00:00,  1.15it/s, loss=1.07]\n",
            "100%|██████████| 100/100 [00:35<00:00,  2.79it/s]"
          ]
        },
        {
          "output_type": "stream",
          "name": "stdout",
          "text": [
            "Model tested on 100 tasks. Accuracy: 60.53%\n"
          ]
        },
        {
          "output_type": "stream",
          "name": "stderr",
          "text": [
            "\n",
            "100%|██████████| 100/100 [00:35<00:00,  2.81it/s]"
          ]
        },
        {
          "output_type": "stream",
          "name": "stdout",
          "text": [
            "Model tested on 100 tasks. Accuracy: 58.77%\n",
            "Epoch 3\n"
          ]
        },
        {
          "output_type": "stream",
          "name": "stderr",
          "text": [
            "\n",
            "Training: 100%|██████████| 100/100 [01:26<00:00,  1.15it/s, loss=1.08]\n",
            "100%|██████████| 100/100 [00:36<00:00,  2.75it/s]"
          ]
        },
        {
          "output_type": "stream",
          "name": "stdout",
          "text": [
            "Model tested on 100 tasks. Accuracy: 63.37%\n"
          ]
        },
        {
          "output_type": "stream",
          "name": "stderr",
          "text": [
            "\n",
            "100%|██████████| 100/100 [00:35<00:00,  2.82it/s]"
          ]
        },
        {
          "output_type": "stream",
          "name": "stdout",
          "text": [
            "Model tested on 100 tasks. Accuracy: 60.80%\n",
            "Epoch 4\n"
          ]
        },
        {
          "output_type": "stream",
          "name": "stderr",
          "text": [
            "\n",
            "Training: 100%|██████████| 100/100 [01:26<00:00,  1.16it/s, loss=0.983]\n",
            "100%|██████████| 100/100 [00:36<00:00,  2.77it/s]"
          ]
        },
        {
          "output_type": "stream",
          "name": "stdout",
          "text": [
            "Model tested on 100 tasks. Accuracy: 64.30%\n"
          ]
        },
        {
          "output_type": "stream",
          "name": "stderr",
          "text": [
            "\n",
            "100%|██████████| 100/100 [00:35<00:00,  2.79it/s]"
          ]
        },
        {
          "output_type": "stream",
          "name": "stdout",
          "text": [
            "Model tested on 100 tasks. Accuracy: 60.07%\n",
            "Epoch 5\n"
          ]
        },
        {
          "output_type": "stream",
          "name": "stderr",
          "text": [
            "\n",
            "Training: 100%|██████████| 100/100 [01:26<00:00,  1.15it/s, loss=0.958]\n",
            "100%|██████████| 100/100 [00:36<00:00,  2.76it/s]"
          ]
        },
        {
          "output_type": "stream",
          "name": "stdout",
          "text": [
            "Model tested on 100 tasks. Accuracy: 64.03%\n"
          ]
        },
        {
          "output_type": "stream",
          "name": "stderr",
          "text": [
            "\n",
            "100%|██████████| 100/100 [00:35<00:00,  2.80it/s]"
          ]
        },
        {
          "output_type": "stream",
          "name": "stdout",
          "text": [
            "Model tested on 100 tasks. Accuracy: 65.70%\n",
            "We found a new best model!\n",
            "Epoch 6\n"
          ]
        },
        {
          "output_type": "stream",
          "name": "stderr",
          "text": [
            "\n",
            "Training: 100%|██████████| 100/100 [01:26<00:00,  1.15it/s, loss=0.924]\n",
            "100%|██████████| 100/100 [00:36<00:00,  2.77it/s]"
          ]
        },
        {
          "output_type": "stream",
          "name": "stdout",
          "text": [
            "Model tested on 100 tasks. Accuracy: 65.37%\n"
          ]
        },
        {
          "output_type": "stream",
          "name": "stderr",
          "text": [
            "\n",
            "100%|██████████| 100/100 [00:35<00:00,  2.78it/s]"
          ]
        },
        {
          "output_type": "stream",
          "name": "stdout",
          "text": [
            "Model tested on 100 tasks. Accuracy: 63.80%\n",
            "Epoch 7\n"
          ]
        },
        {
          "output_type": "stream",
          "name": "stderr",
          "text": [
            "\n",
            "Training: 100%|██████████| 100/100 [01:26<00:00,  1.15it/s, loss=0.865]\n",
            "100%|██████████| 100/100 [00:35<00:00,  2.79it/s]"
          ]
        },
        {
          "output_type": "stream",
          "name": "stdout",
          "text": [
            "Model tested on 100 tasks. Accuracy: 67.67%\n"
          ]
        },
        {
          "output_type": "stream",
          "name": "stderr",
          "text": [
            "\n",
            "100%|██████████| 100/100 [00:35<00:00,  2.79it/s]"
          ]
        },
        {
          "output_type": "stream",
          "name": "stdout",
          "text": [
            "Model tested on 100 tasks. Accuracy: 63.60%\n",
            "Epoch 8\n"
          ]
        },
        {
          "output_type": "stream",
          "name": "stderr",
          "text": [
            "\n",
            "Training: 100%|██████████| 100/100 [01:26<00:00,  1.15it/s, loss=0.917]\n",
            "100%|██████████| 100/100 [00:36<00:00,  2.77it/s]"
          ]
        },
        {
          "output_type": "stream",
          "name": "stdout",
          "text": [
            "Model tested on 100 tasks. Accuracy: 67.00%\n"
          ]
        },
        {
          "output_type": "stream",
          "name": "stderr",
          "text": [
            "\n",
            "100%|██████████| 100/100 [00:35<00:00,  2.80it/s]"
          ]
        },
        {
          "output_type": "stream",
          "name": "stdout",
          "text": [
            "Model tested on 100 tasks. Accuracy: 61.83%\n",
            "Epoch 9\n"
          ]
        },
        {
          "output_type": "stream",
          "name": "stderr",
          "text": [
            "\n",
            "Training: 100%|██████████| 100/100 [01:26<00:00,  1.15it/s, loss=0.835]\n",
            "100%|██████████| 100/100 [00:35<00:00,  2.80it/s]"
          ]
        },
        {
          "output_type": "stream",
          "name": "stdout",
          "text": [
            "Model tested on 100 tasks. Accuracy: 70.43%\n"
          ]
        },
        {
          "output_type": "stream",
          "name": "stderr",
          "text": [
            "\n",
            "100%|██████████| 100/100 [00:35<00:00,  2.80it/s]"
          ]
        },
        {
          "output_type": "stream",
          "name": "stdout",
          "text": [
            "Model tested on 100 tasks. Accuracy: 64.67%\n",
            "Epoch 10\n"
          ]
        },
        {
          "output_type": "stream",
          "name": "stderr",
          "text": [
            "\n",
            "Training: 100%|██████████| 100/100 [01:26<00:00,  1.16it/s, loss=0.787]\n",
            "100%|██████████| 100/100 [00:35<00:00,  2.82it/s]"
          ]
        },
        {
          "output_type": "stream",
          "name": "stdout",
          "text": [
            "Model tested on 100 tasks. Accuracy: 67.40%\n"
          ]
        },
        {
          "output_type": "stream",
          "name": "stderr",
          "text": [
            "\n",
            "100%|██████████| 100/100 [00:36<00:00,  2.77it/s]"
          ]
        },
        {
          "output_type": "stream",
          "name": "stdout",
          "text": [
            "Model tested on 100 tasks. Accuracy: 62.90%\n",
            "Epoch 11\n"
          ]
        },
        {
          "output_type": "stream",
          "name": "stderr",
          "text": [
            "\n",
            "Training: 100%|██████████| 100/100 [01:26<00:00,  1.16it/s, loss=0.793]\n",
            "100%|██████████| 100/100 [00:35<00:00,  2.79it/s]"
          ]
        },
        {
          "output_type": "stream",
          "name": "stdout",
          "text": [
            "Model tested on 100 tasks. Accuracy: 71.77%\n"
          ]
        },
        {
          "output_type": "stream",
          "name": "stderr",
          "text": [
            "\n",
            "100%|██████████| 100/100 [00:35<00:00,  2.80it/s]"
          ]
        },
        {
          "output_type": "stream",
          "name": "stdout",
          "text": [
            "Model tested on 100 tasks. Accuracy: 67.10%\n",
            "We found a new best model!\n",
            "Epoch 12\n"
          ]
        },
        {
          "output_type": "stream",
          "name": "stderr",
          "text": [
            "\n",
            "Training: 100%|██████████| 100/100 [01:26<00:00,  1.15it/s, loss=0.815]\n",
            "100%|██████████| 100/100 [00:35<00:00,  2.80it/s]"
          ]
        },
        {
          "output_type": "stream",
          "name": "stdout",
          "text": [
            "Model tested on 100 tasks. Accuracy: 71.73%\n"
          ]
        },
        {
          "output_type": "stream",
          "name": "stderr",
          "text": [
            "\n",
            "100%|██████████| 100/100 [00:35<00:00,  2.80it/s]"
          ]
        },
        {
          "output_type": "stream",
          "name": "stdout",
          "text": [
            "Model tested on 100 tasks. Accuracy: 65.77%\n",
            "Epoch 13\n"
          ]
        },
        {
          "output_type": "stream",
          "name": "stderr",
          "text": [
            "\n",
            "Training: 100%|██████████| 100/100 [01:26<00:00,  1.16it/s, loss=0.731]\n",
            "100%|██████████| 100/100 [00:36<00:00,  2.76it/s]"
          ]
        },
        {
          "output_type": "stream",
          "name": "stdout",
          "text": [
            "Model tested on 100 tasks. Accuracy: 72.70%\n"
          ]
        },
        {
          "output_type": "stream",
          "name": "stderr",
          "text": [
            "\n",
            "100%|██████████| 100/100 [00:36<00:00,  2.77it/s]"
          ]
        },
        {
          "output_type": "stream",
          "name": "stdout",
          "text": [
            "Model tested on 100 tasks. Accuracy: 69.17%\n",
            "We found a new best model!\n",
            "Epoch 14\n"
          ]
        },
        {
          "output_type": "stream",
          "name": "stderr",
          "text": [
            "\n",
            "Training: 100%|██████████| 100/100 [01:26<00:00,  1.15it/s, loss=0.705]\n",
            "100%|██████████| 100/100 [00:36<00:00,  2.77it/s]"
          ]
        },
        {
          "output_type": "stream",
          "name": "stdout",
          "text": [
            "Model tested on 100 tasks. Accuracy: 72.23%\n"
          ]
        },
        {
          "output_type": "stream",
          "name": "stderr",
          "text": [
            "\n",
            "100%|██████████| 100/100 [00:35<00:00,  2.78it/s]"
          ]
        },
        {
          "output_type": "stream",
          "name": "stdout",
          "text": [
            "Model tested on 100 tasks. Accuracy: 65.77%\n",
            "Epoch 15\n"
          ]
        },
        {
          "output_type": "stream",
          "name": "stderr",
          "text": [
            "\n",
            "Training: 100%|██████████| 100/100 [01:26<00:00,  1.15it/s, loss=0.796]\n",
            "100%|██████████| 100/100 [00:36<00:00,  2.76it/s]"
          ]
        },
        {
          "output_type": "stream",
          "name": "stdout",
          "text": [
            "Model tested on 100 tasks. Accuracy: 73.53%\n"
          ]
        },
        {
          "output_type": "stream",
          "name": "stderr",
          "text": [
            "\n",
            "100%|██████████| 100/100 [00:35<00:00,  2.81it/s]"
          ]
        },
        {
          "output_type": "stream",
          "name": "stdout",
          "text": [
            "Model tested on 100 tasks. Accuracy: 67.27%\n",
            "Epoch 16\n"
          ]
        },
        {
          "output_type": "stream",
          "name": "stderr",
          "text": [
            "\n",
            "Training: 100%|██████████| 100/100 [01:26<00:00,  1.15it/s, loss=0.722]\n",
            "100%|██████████| 100/100 [00:35<00:00,  2.80it/s]"
          ]
        },
        {
          "output_type": "stream",
          "name": "stdout",
          "text": [
            "Model tested on 100 tasks. Accuracy: 74.90%\n"
          ]
        },
        {
          "output_type": "stream",
          "name": "stderr",
          "text": [
            "\n",
            "100%|██████████| 100/100 [00:35<00:00,  2.78it/s]"
          ]
        },
        {
          "output_type": "stream",
          "name": "stdout",
          "text": [
            "Model tested on 100 tasks. Accuracy: 69.47%\n",
            "We found a new best model!\n",
            "Epoch 17\n"
          ]
        },
        {
          "output_type": "stream",
          "name": "stderr",
          "text": [
            "\n",
            "Training: 100%|██████████| 100/100 [01:26<00:00,  1.15it/s, loss=0.688]\n",
            "100%|██████████| 100/100 [00:35<00:00,  2.80it/s]"
          ]
        },
        {
          "output_type": "stream",
          "name": "stdout",
          "text": [
            "Model tested on 100 tasks. Accuracy: 76.23%\n"
          ]
        },
        {
          "output_type": "stream",
          "name": "stderr",
          "text": [
            "\n",
            "100%|██████████| 100/100 [00:35<00:00,  2.80it/s]"
          ]
        },
        {
          "output_type": "stream",
          "name": "stdout",
          "text": [
            "Model tested on 100 tasks. Accuracy: 69.77%\n",
            "We found a new best model!\n",
            "Epoch 18\n"
          ]
        },
        {
          "output_type": "stream",
          "name": "stderr",
          "text": [
            "\n",
            "Training: 100%|██████████| 100/100 [01:26<00:00,  1.15it/s, loss=0.687]\n",
            "100%|██████████| 100/100 [00:35<00:00,  2.80it/s]"
          ]
        },
        {
          "output_type": "stream",
          "name": "stdout",
          "text": [
            "Model tested on 100 tasks. Accuracy: 74.93%\n"
          ]
        },
        {
          "output_type": "stream",
          "name": "stderr",
          "text": [
            "\n",
            "100%|██████████| 100/100 [00:36<00:00,  2.77it/s]"
          ]
        },
        {
          "output_type": "stream",
          "name": "stdout",
          "text": [
            "Model tested on 100 tasks. Accuracy: 69.17%\n",
            "Epoch 19\n"
          ]
        },
        {
          "output_type": "stream",
          "name": "stderr",
          "text": [
            "\n",
            "Training: 100%|██████████| 100/100 [01:26<00:00,  1.15it/s, loss=0.666]\n",
            "100%|██████████| 100/100 [00:36<00:00,  2.76it/s]"
          ]
        },
        {
          "output_type": "stream",
          "name": "stdout",
          "text": [
            "Model tested on 100 tasks. Accuracy: 76.57%\n"
          ]
        },
        {
          "output_type": "stream",
          "name": "stderr",
          "text": [
            "\n",
            "100%|██████████| 100/100 [00:35<00:00,  2.78it/s]"
          ]
        },
        {
          "output_type": "stream",
          "name": "stdout",
          "text": [
            "Model tested on 100 tasks. Accuracy: 69.33%\n",
            "Epoch 20\n"
          ]
        },
        {
          "output_type": "stream",
          "name": "stderr",
          "text": [
            "\n",
            "Training: 100%|██████████| 100/100 [01:26<00:00,  1.15it/s, loss=0.657]\n",
            "100%|██████████| 100/100 [00:36<00:00,  2.78it/s]"
          ]
        },
        {
          "output_type": "stream",
          "name": "stdout",
          "text": [
            "Model tested on 100 tasks. Accuracy: 75.97%\n"
          ]
        },
        {
          "output_type": "stream",
          "name": "stderr",
          "text": [
            "\n",
            "100%|██████████| 100/100 [00:35<00:00,  2.80it/s]"
          ]
        },
        {
          "output_type": "stream",
          "name": "stdout",
          "text": [
            "Model tested on 100 tasks. Accuracy: 69.27%\n",
            "Epoch 21\n"
          ]
        },
        {
          "output_type": "stream",
          "name": "stderr",
          "text": [
            "\n",
            "Training: 100%|██████████| 100/100 [01:26<00:00,  1.15it/s, loss=0.545]\n",
            "100%|██████████| 100/100 [00:35<00:00,  2.80it/s]"
          ]
        },
        {
          "output_type": "stream",
          "name": "stdout",
          "text": [
            "Model tested on 100 tasks. Accuracy: 79.40%\n"
          ]
        },
        {
          "output_type": "stream",
          "name": "stderr",
          "text": [
            "\n",
            "100%|██████████| 100/100 [00:35<00:00,  2.81it/s]"
          ]
        },
        {
          "output_type": "stream",
          "name": "stdout",
          "text": [
            "Model tested on 100 tasks. Accuracy: 70.83%\n",
            "We found a new best model!\n",
            "Epoch 22\n"
          ]
        },
        {
          "output_type": "stream",
          "name": "stderr",
          "text": [
            "\n",
            "Training: 100%|██████████| 100/100 [01:26<00:00,  1.15it/s, loss=0.618]\n",
            "100%|██████████| 100/100 [00:35<00:00,  2.81it/s]"
          ]
        },
        {
          "output_type": "stream",
          "name": "stdout",
          "text": [
            "Model tested on 100 tasks. Accuracy: 79.23%\n"
          ]
        },
        {
          "output_type": "stream",
          "name": "stderr",
          "text": [
            "\n",
            "100%|██████████| 100/100 [00:35<00:00,  2.79it/s]"
          ]
        },
        {
          "output_type": "stream",
          "name": "stdout",
          "text": [
            "Model tested on 100 tasks. Accuracy: 70.27%\n",
            "Epoch 23\n"
          ]
        },
        {
          "output_type": "stream",
          "name": "stderr",
          "text": [
            "\n",
            "Training: 100%|██████████| 100/100 [01:26<00:00,  1.15it/s, loss=0.626]\n",
            "100%|██████████| 100/100 [00:35<00:00,  2.81it/s]"
          ]
        },
        {
          "output_type": "stream",
          "name": "stdout",
          "text": [
            "Model tested on 100 tasks. Accuracy: 77.43%\n"
          ]
        },
        {
          "output_type": "stream",
          "name": "stderr",
          "text": [
            "\n",
            "100%|██████████| 100/100 [00:35<00:00,  2.83it/s]"
          ]
        },
        {
          "output_type": "stream",
          "name": "stdout",
          "text": [
            "Model tested on 100 tasks. Accuracy: 71.10%\n",
            "We found a new best model!\n",
            "Epoch 24\n"
          ]
        },
        {
          "output_type": "stream",
          "name": "stderr",
          "text": [
            "\n",
            "Training: 100%|██████████| 100/100 [01:26<00:00,  1.15it/s, loss=0.559]\n",
            "100%|██████████| 100/100 [00:35<00:00,  2.82it/s]"
          ]
        },
        {
          "output_type": "stream",
          "name": "stdout",
          "text": [
            "Model tested on 100 tasks. Accuracy: 78.83%\n"
          ]
        },
        {
          "output_type": "stream",
          "name": "stderr",
          "text": [
            "\n",
            "100%|██████████| 100/100 [00:35<00:00,  2.82it/s]"
          ]
        },
        {
          "output_type": "stream",
          "name": "stdout",
          "text": [
            "Model tested on 100 tasks. Accuracy: 71.13%\n",
            "We found a new best model!\n",
            "Epoch 25\n"
          ]
        },
        {
          "output_type": "stream",
          "name": "stderr",
          "text": [
            "\n",
            "Training: 100%|██████████| 100/100 [01:26<00:00,  1.15it/s, loss=0.566]\n",
            "100%|██████████| 100/100 [00:36<00:00,  2.77it/s]"
          ]
        },
        {
          "output_type": "stream",
          "name": "stdout",
          "text": [
            "Model tested on 100 tasks. Accuracy: 79.87%\n"
          ]
        },
        {
          "output_type": "stream",
          "name": "stderr",
          "text": [
            "\n",
            "100%|██████████| 100/100 [00:35<00:00,  2.80it/s]"
          ]
        },
        {
          "output_type": "stream",
          "name": "stdout",
          "text": [
            "Model tested on 100 tasks. Accuracy: 71.33%\n",
            "We found a new best model!\n",
            "Epoch 26\n"
          ]
        },
        {
          "output_type": "stream",
          "name": "stderr",
          "text": [
            "\n",
            "Training: 100%|██████████| 100/100 [01:26<00:00,  1.15it/s, loss=0.579]\n",
            "100%|██████████| 100/100 [00:35<00:00,  2.79it/s]"
          ]
        },
        {
          "output_type": "stream",
          "name": "stdout",
          "text": [
            "Model tested on 100 tasks. Accuracy: 78.23%\n"
          ]
        },
        {
          "output_type": "stream",
          "name": "stderr",
          "text": [
            "\n",
            "100%|██████████| 100/100 [00:35<00:00,  2.79it/s]"
          ]
        },
        {
          "output_type": "stream",
          "name": "stdout",
          "text": [
            "Model tested on 100 tasks. Accuracy: 71.23%\n",
            "Epoch 27\n"
          ]
        },
        {
          "output_type": "stream",
          "name": "stderr",
          "text": [
            "\n",
            "Training: 100%|██████████| 100/100 [01:26<00:00,  1.15it/s, loss=0.6]\n",
            "100%|██████████| 100/100 [00:35<00:00,  2.80it/s]"
          ]
        },
        {
          "output_type": "stream",
          "name": "stdout",
          "text": [
            "Model tested on 100 tasks. Accuracy: 79.63%\n"
          ]
        },
        {
          "output_type": "stream",
          "name": "stderr",
          "text": [
            "\n",
            "100%|██████████| 100/100 [00:35<00:00,  2.82it/s]"
          ]
        },
        {
          "output_type": "stream",
          "name": "stdout",
          "text": [
            "Model tested on 100 tasks. Accuracy: 67.33%\n",
            "Epoch 28\n"
          ]
        },
        {
          "output_type": "stream",
          "name": "stderr",
          "text": [
            "\n",
            "Training: 100%|██████████| 100/100 [01:26<00:00,  1.15it/s, loss=0.581]\n",
            "100%|██████████| 100/100 [00:35<00:00,  2.80it/s]"
          ]
        },
        {
          "output_type": "stream",
          "name": "stdout",
          "text": [
            "Model tested on 100 tasks. Accuracy: 79.10%\n"
          ]
        },
        {
          "output_type": "stream",
          "name": "stderr",
          "text": [
            "\n",
            "100%|██████████| 100/100 [00:35<00:00,  2.79it/s]"
          ]
        },
        {
          "output_type": "stream",
          "name": "stdout",
          "text": [
            "Model tested on 100 tasks. Accuracy: 71.63%\n",
            "We found a new best model!\n",
            "Epoch 29\n"
          ]
        },
        {
          "output_type": "stream",
          "name": "stderr",
          "text": [
            "\n",
            "Training: 100%|██████████| 100/100 [01:26<00:00,  1.16it/s, loss=0.507]\n",
            "100%|██████████| 100/100 [00:35<00:00,  2.82it/s]"
          ]
        },
        {
          "output_type": "stream",
          "name": "stdout",
          "text": [
            "Model tested on 100 tasks. Accuracy: 80.53%\n"
          ]
        },
        {
          "output_type": "stream",
          "name": "stderr",
          "text": [
            "\n",
            "100%|██████████| 100/100 [00:35<00:00,  2.80it/s]"
          ]
        },
        {
          "output_type": "stream",
          "name": "stdout",
          "text": [
            "Model tested on 100 tasks. Accuracy: 71.87%\n",
            "We found a new best model!\n"
          ]
        },
        {
          "output_type": "stream",
          "name": "stderr",
          "text": [
            "\n"
          ]
        }
      ]
    },
    {
      "cell_type": "code",
      "source": [
        "few_shot_classifier.load_state_dict(best_state)"
      ],
      "metadata": {
        "colab": {
          "base_uri": "https://localhost:8080/"
        },
        "id": "JLQQ-WnfQ1ID",
        "outputId": "5069167c-06c4-4521-ce75-91c979183088"
      },
      "execution_count": null,
      "outputs": [
        {
          "output_type": "execute_result",
          "data": {
            "text/plain": [
              "<All keys matched successfully>"
            ]
          },
          "metadata": {},
          "execution_count": 51
        }
      ]
    },
    {
      "cell_type": "code",
      "source": [
        "n_way = 5\n",
        "n_shot = 4\n",
        "n_query = 6\n",
        "n_test_tasks = 200\n",
        "\n",
        "test_set = Flowers102(\n",
        "    root=\"./data\",\n",
        "    split = 'test',\n",
        "    transform=transforms.Compose(\n",
        "        [\n",
        "            transforms.RandomResizedCrop(image_size),\n",
        "            transforms.ToTensor(),\n",
        "            transforms.Normalize(mean=[0.507, 0.487, 0.441], std=[0.267, 0.256, 0.276])\n",
        "        ]\n",
        "    ),\n",
        "    download=True,\n",
        ")\n",
        "test_set.get_labels = lambda: [\n",
        "    instance[1] for instance in test_set\n",
        "]\n",
        "test_sampler = TaskSampler(\n",
        "    test_set, n_way=n_way, n_shot=n_shot, n_query=n_query, n_tasks= n_test_tasks\n",
        ")\n",
        "\n",
        "test_loader = DataLoader(\n",
        "    test_set,\n",
        "    batch_sampler=test_sampler,\n",
        "    num_workers=2,\n",
        "    pin_memory=True,\n",
        "    collate_fn=test_sampler.episodic_collate_fn,\n",
        ")\n"
      ],
      "metadata": {
        "id": "aLE710AA8FTh"
      },
      "execution_count": null,
      "outputs": []
    },
    {
      "cell_type": "code",
      "source": [
        "evaluate(test_loader,few_shot_classifier)"
      ],
      "metadata": {
        "colab": {
          "base_uri": "https://localhost:8080/"
        },
        "id": "pEa4vm9zZu-w",
        "outputId": "b63dc783-80fe-4d1d-8730-0822b9dee1f5"
      },
      "execution_count": null,
      "outputs": [
        {
          "output_type": "stream",
          "name": "stderr",
          "text": [
            "100%|██████████| 200/200 [01:05<00:00,  3.03it/s]"
          ]
        },
        {
          "output_type": "stream",
          "name": "stdout",
          "text": [
            "Model tested on 200 tasks. Accuracy: 66.12%\n"
          ]
        },
        {
          "output_type": "stream",
          "name": "stderr",
          "text": [
            "\n"
          ]
        },
        {
          "output_type": "execute_result",
          "data": {
            "text/plain": [
              "66.11666666666666"
            ]
          },
          "metadata": {},
          "execution_count": 53
        }
      ]
    },
    {
      "cell_type": "code",
      "source": [],
      "metadata": {
        "id": "U57jB_6dcUZ2"
      },
      "execution_count": null,
      "outputs": []
    }
  ]
}